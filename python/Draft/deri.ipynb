{
 "cells": [
  {
   "cell_type": "code",
   "execution_count": 22,
   "metadata": {},
   "outputs": [],
   "source": [
    "import sympy as sym"
   ]
  },
  {
   "cell_type": "code",
   "execution_count": 23,
   "metadata": {},
   "outputs": [],
   "source": [
    "f, g = sym.symbols('f g', cls= sym.Function)\n",
    "a, x, y, z = sym.symbols('a x:z', cls= sym.var, real= True)"
   ]
  },
  {
   "cell_type": "code",
   "execution_count": 29,
   "metadata": {},
   "outputs": [
    {
     "data": {
      "text/latex": [
       "$\\displaystyle x^{2} + e^{\\sin{\\left(30 x y \\right)}}$"
      ],
      "text/plain": [
       "x**2 + exp(sin(30*x*y))"
      ]
     },
     "execution_count": 29,
     "metadata": {},
     "output_type": "execute_result"
    }
   ],
   "source": [
    "f = a*x**2 + sym.exp(sym.sin(30*x*y))\n",
    "f"
   ]
  },
  {
   "cell_type": "code",
   "execution_count": 30,
   "metadata": {},
   "outputs": [
    {
     "data": {
      "text/latex": [
       "$\\displaystyle 2 x + 30 y e^{\\sin{\\left(30 x y \\right)}} \\cos{\\left(30 x y \\right)}$"
      ],
      "text/plain": [
       "2*x + 30*y*exp(sin(30*x*y))*cos(30*x*y)"
      ]
     },
     "execution_count": 30,
     "metadata": {},
     "output_type": "execute_result"
    }
   ],
   "source": [
    "df = sym.diff(f, x, 1)\n",
    "df"
   ]
  },
  {
   "cell_type": "code",
   "execution_count": 32,
   "metadata": {},
   "outputs": [
    {
     "data": {
      "text/latex": [
       "$\\displaystyle 27000 y^{3} \\left(- 3 \\sin{\\left(30 x y \\right)} + \\cos^{2}{\\left(30 x y \\right)} - 1\\right) e^{\\sin{\\left(30 x y \\right)}} \\cos{\\left(30 x y \\right)}$"
      ],
      "text/plain": [
       "27000*y**3*(-3*sin(30*x*y) + cos(30*x*y)**2 - 1)*exp(sin(30*x*y))*cos(30*x*y)"
      ]
     },
     "execution_count": 32,
     "metadata": {},
     "output_type": "execute_result"
    }
   ],
   "source": [
    "sym.diff(df, x, 2)\n"
   ]
  },
  {
   "cell_type": "code",
   "execution_count": null,
   "metadata": {},
   "outputs": [],
   "source": []
  },
  {
   "cell_type": "code",
   "execution_count": null,
   "metadata": {},
   "outputs": [],
   "source": []
  }
 ],
 "metadata": {
  "kernelspec": {
   "display_name": "Python 3",
   "language": "python",
   "name": "python3"
  },
  "language_info": {
   "codemirror_mode": {
    "name": "ipython",
    "version": 3
   },
   "file_extension": ".py",
   "mimetype": "text/x-python",
   "name": "python",
   "nbconvert_exporter": "python",
   "pygments_lexer": "ipython3",
   "version": "3.12.3"
  }
 },
 "nbformat": 4,
 "nbformat_minor": 2
}
