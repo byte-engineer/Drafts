{
 "cells": [
  {
   "cell_type": "code",
   "execution_count": 146,
   "metadata": {},
   "outputs": [],
   "source": [
    "import torch\n",
    "import numpy as np\n",
    "import matplotlib.pyplot as plt"
   ]
  },
  {
   "cell_type": "code",
   "execution_count": 147,
   "metadata": {},
   "outputs": [],
   "source": [
    "W = 0.3\n",
    "b = 0.5"
   ]
  },
  {
   "cell_type": "code",
   "execution_count": 148,
   "metadata": {},
   "outputs": [],
   "source": [
    "x = torch.arange(0, 100)\n",
    "y = W*x + b"
   ]
  },
  {
   "cell_type": "code",
   "execution_count": 149,
   "metadata": {},
   "outputs": [
    {
     "data": {
      "image/png": "[encoded data removed]",
      "text/plain": [
       "<Figure size 640x480 with 1 Axes>"
      ]
     },
     "metadata": {},
     "output_type": "display_data"
    }
   ],
   "source": [
    "def plot2D(X: np.ndarray,\n",
    "           Y: np.ndarray,\n",
    "           Z: np.ndarray= None,\n",
    "           color= 'cyan',\n",
    "           grid= True,\n",
    "           xlbl= \"X\",\n",
    "           ylbl= \"Y\",\n",
    "           title= \"Graph\"):\n",
    "\n",
    "    plt.plot(X, Y, color= color)\n",
    "    if Z is not None:\n",
    "        plt.plot(X, Z, color= color)\n",
    "    plt.title(title)                   # Set a title for the whole page.\n",
    "    plt.xlabel(xlbl)                   # Label x axis with \"X\"\n",
    "    plt.ylabel(ylbl)                   # Label y axis with \"Y\"\n",
    "    plt.grid(grid)                     # Add grid to the graph.\n",
    "\n",
    "plot2D(x, y)"
   ]
  },
  {
   "cell_type": "code",
   "execution_count": 150,
   "metadata": {},
   "outputs": [],
   "source": [
    "split_border = int(0.8 * len(x))\n",
    "\n",
    "xtrain, ytrain = x[:split_border], y[:split_border]\n",
    "xtest, ytest   = x[split_border:], y[split_border:]"
   ]
  },
  {
   "cell_type": "code",
   "execution_count": 151,
   "metadata": {},
   "outputs": [],
   "source": [
    "class LRM(torch.nn.Module):\n",
    "    def __init__(self) -> None:\n",
    "        super().__init__()\n",
    "\n",
    "        self.weight = torch.nn.Parameter(torch.rand(1))\n",
    "        self.bias   = torch.nn.Parameter(torch.rand(1))\n",
    "\n",
    "    def forward(self, X):\n",
    "        return self.weight*X + self.bias"
   ]
  },
  {
   "cell_type": "code",
   "execution_count": 152,
   "metadata": {},
   "outputs": [],
   "source": [
    "model = LRM()"
   ]
  },
  {
   "cell_type": "code",
   "execution_count": 153,
   "metadata": {},
   "outputs": [],
   "source": [
    "loss_fn = torch.nn.L1Loss()\n",
    "optimiz = torch.optim.SGD(model.parameters(), lr= 0.001)"
   ]
  },
  {
   "cell_type": "code",
   "execution_count": 683,
   "metadata": {},
   "outputs": [
    {
     "name": "stdout",
     "output_type": "stream",
     "text": [
      "loss  : 0.152\n",
      "Weight: 0.3 --> 0.3\n",
      "Bias  : 0.5 --> 0.5\n"
     ]
    }
   ],
   "source": [
    "epochs = 100\n",
    "torch.manual_seed(42)\n",
    "\n",
    "for i in range(epochs):\n",
    "    model.train()\n",
    "    ymdl = model(xtrain)\n",
    "    loss = loss_fn(ymdl, ytrain)\n",
    "    optimiz.zero_grad()\n",
    "    loss.backward()\n",
    "    optimiz.step()\n",
    "\n",
    "\n",
    "print(f\"loss  :\", round(float(loss), 3))\n",
    "print(f\"Weight: {round(float(list(model.parameters())[0]), 3)} --> {W}\")\n",
    "print(f\"Bias  : {round(float(list(model.parameters())[1]), 3)} --> {b}\")"
   ]
  }
 ],
 "metadata": {
  "kernelspec": {
   "display_name": "Python 3",
   "language": "python",
   "name": "python3"
  },
  "language_info": {
   "codemirror_mode": {
    "name": "ipython",
    "version": 3
   },
   "file_extension": ".py",
   "mimetype": "text/x-python",
   "name": "python",
   "nbconvert_exporter": "python",
   "pygments_lexer": "ipython3",
   "version": "3.12.3"
  }
 },
 "nbformat": 4,
 "nbformat_minor": 2
}
